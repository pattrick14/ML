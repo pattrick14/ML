{
 "cells": [
  {
   "cell_type": "code",
   "execution_count": null,
   "metadata": {
    "id": "xle563aBVnWC"
   },
   "outputs": [],
   "source": [
    "# Predict the price of the Uber ride, Linear, Lasso Ridge Regression\n",
    "import numpy as np\n",
    "import pandas as pd\n",
    "import matplotlib.pyplot as plt\n",
    "import seaborn as sns\n",
    "\n",
    "from sklearn.model_selection import train_test_split\n",
    "from sklearn.linear_model import LinearRegression, Ridge, Lasso\n",
    "from sklearn.metrics import mean_squared_error, r2_score"
   ]
  },
  {
   "cell_type": "code",
   "execution_count": null,
   "metadata": {
    "id": "ryzBY01oV1Pv"
   },
   "outputs": [],
   "source": [
    "uber = pd.read_csv(\"./datasets/uber.csv\")\n",
    "uber.shape"
   ]
  },
  {
   "cell_type": "code",
   "execution_count": null,
   "metadata": {
    "colab": {
     "base_uri": "https://localhost:8080/"
    },
    "id": "BjJQGXxOWO4_",
    "outputId": "8ec042d1-d33c-4ffd-8bb4-3f400187a370"
   },
   "outputs": [],
   "source": [
    "uber.info()"
   ]
  },
  {
   "cell_type": "code",
   "execution_count": null,
   "metadata": {},
   "outputs": [],
   "source": [
    "uber.sample(5)"
   ]
  },
  {
   "cell_type": "code",
   "execution_count": null,
   "metadata": {
    "id": "RtIiXN4GOnXG"
   },
   "outputs": [],
   "source": [
    "uber.drop(columns=[\"Unnamed: 0\", \"pickup_datetime\"], inplace = True)\n",
    "uber.isnull().sum() * 100 / len(uber)"
   ]
  },
  {
   "cell_type": "code",
   "execution_count": null,
   "metadata": {
    "id": "fv1dmQNkP6YC"
   },
   "outputs": [],
   "source": [
    "uber.dropna(axis=0, inplace=True)\n",
    "uber.isnull().sum()"
   ]
  },
  {
   "cell_type": "code",
   "execution_count": null,
   "metadata": {
    "colab": {
     "base_uri": "https://localhost:8080/"
    },
    "id": "Ffj-PR44Rv0N",
    "outputId": "1e6e345e-4d05-4798-86f2-b3b537d9be1f"
   },
   "outputs": [],
   "source": [
    "uber.shape"
   ]
  },
  {
   "cell_type": "markdown",
   "metadata": {
    "id": "DzLnQPJSSgR8"
   },
   "source": [
    "#### Extracting Weekday From Key Column"
   ]
  },
  {
   "cell_type": "code",
   "execution_count": null,
   "metadata": {
    "id": "lprLbSGBSecl"
   },
   "outputs": [],
   "source": [
    "uber[\"key\"] = pd.to_datetime(uber[\"key\"])"
   ]
  },
  {
   "cell_type": "code",
   "execution_count": null,
   "metadata": {
    "id": "1dVE4FQpTZwG"
   },
   "outputs": [],
   "source": [
    "uber[\"weekday\"] = uber[\"key\"].dt.weekday"
   ]
  },
  {
   "cell_type": "markdown",
   "metadata": {
    "id": "__MrqtoJmaRO"
   },
   "source": [
    "#### Computing Manhattan Distance in km from the coordinates"
   ]
  },
  {
   "cell_type": "code",
   "execution_count": null,
   "metadata": {
    "id": "GKiFCkPCl87p"
   },
   "outputs": [],
   "source": [
    "lat_to_km = 111  # km per degree of latitude\n",
    "long_to_km = 85  # km per degree of longitude\n",
    "\n",
    "uber['manhattan_distance_km'] = (uber['pickup_latitude'] - uber['dropoff_latitude']).abs() * lat_to_km + \\\n",
    "(uber['pickup_longitude'] - uber['dropoff_longitude']).abs() * long_to_km"
   ]
  },
  {
   "cell_type": "code",
   "execution_count": null,
   "metadata": {
    "colab": {
     "base_uri": "https://localhost:8080/",
     "height": 313
    },
    "id": "csP7i3ZYn3um",
    "outputId": "30d6a645-8d09-451e-8cf1-7ed829194456"
   },
   "outputs": [],
   "source": [
    "uber.sample(5)"
   ]
  },
  {
   "cell_type": "markdown",
   "metadata": {
    "id": "FG4GOlCeU-8T"
   },
   "source": [
    "### 2. Identify outliers"
   ]
  },
  {
   "cell_type": "code",
   "execution_count": null,
   "metadata": {
    "colab": {
     "base_uri": "https://localhost:8080/",
     "height": 424
    },
    "id": "YaVRR7IIt0T_",
    "outputId": "42b6155e-0f9f-4c4f-c4f7-aba3969068ac"
   },
   "outputs": [],
   "source": [
    "uber.describe()"
   ]
  },
  {
   "cell_type": "code",
   "execution_count": null,
   "metadata": {
    "id": "-Q3lPzFK_RT_"
   },
   "outputs": [],
   "source": [
    "nyc_latitude_range = (40.5, 41.0)\n",
    "nyc_longitude_range = (-74.5, -73.5)\n",
    "\n",
    "# Filter the DataFrame to include only rows with coordinates within NYC-specific ranges\n",
    "uber = uber[(uber['pickup_latitude'].between(nyc_latitude_range[0], nyc_latitude_range[1])) &\n",
    "                (uber['pickup_longitude'].between(nyc_longitude_range[0], nyc_longitude_range[1])) &\n",
    "                (uber['dropoff_latitude'].between(nyc_latitude_range[0], nyc_latitude_range[1])) &\n",
    "                (uber['dropoff_longitude'].between(nyc_longitude_range[0], nyc_longitude_range[1]))]\n"
   ]
  },
  {
   "cell_type": "code",
   "execution_count": null,
   "metadata": {
    "colab": {
     "base_uri": "https://localhost:8080/"
    },
    "id": "4j1GHbs5Qkq8",
    "outputId": "a5d4bf6d-47eb-42a9-a677-9c95b3ec0257"
   },
   "outputs": [],
   "source": [
    "uber.shape"
   ]
  },
  {
   "cell_type": "code",
   "execution_count": null,
   "metadata": {
    "colab": {
     "base_uri": "https://localhost:8080/",
     "height": 424
    },
    "id": "6bT0B4beQnEA",
    "outputId": "f2104da5-d52e-4b39-ac3e-c4f529eda269"
   },
   "outputs": [],
   "source": [
    "uber.describe()"
   ]
  },
  {
   "cell_type": "code",
   "execution_count": null,
   "metadata": {
    "id": "lclr24aB-aRo"
   },
   "outputs": [],
   "source": [
    "# Function to detect outliers using IQR method with logical conditions\n",
    "def get_outliers(df, column_name, logical_conditions):\n",
    "    # Apply logical conditions to filter the DataFrame\n",
    "    filtered_df = df.query(logical_conditions)\n",
    "\n",
    "    Q1 = filtered_df[column_name].quantile(0.25)\n",
    "    Q3 = filtered_df[column_name].quantile(0.75)\n",
    "    IQR = Q3 - Q1\n",
    "\n",
    "    # Define lower and upper bounds\n",
    "    lower_bound = Q1 - 1.5 * IQR\n",
    "    upper_bound = Q3 + 1.5 * IQR\n",
    "\n",
    "    # Identify outliers\n",
    "    outliers = filtered_df[(filtered_df[column_name] < lower_bound) | (filtered_df[column_name] > upper_bound)]\n",
    "\n",
    "    return lower_bound, upper_bound, outliers"
   ]
  },
  {
   "cell_type": "code",
   "execution_count": null,
   "metadata": {
    "id": "JhGIe1w6CNAm"
   },
   "outputs": [],
   "source": [
    "def uber_boxplot(df):\n",
    "  # Plotting boxplots for visual inspection\n",
    "  plt.figure(figsize=(18, 5))\n",
    "\n",
    "  # Boxplot for fare_amount\n",
    "  plt.subplot(1, 3, 1)\n",
    "  sns.boxplot(data=df, y='fare_amount')\n",
    "  plt.title('Fare Amount Boxplot')\n",
    "  plt.ylabel('Fare Amount')\n",
    "\n",
    "  # Boxplot for manhattan_distance_km\n",
    "  plt.subplot(1, 3, 2)\n",
    "  sns.boxplot(data=df, y='manhattan_distance_km')\n",
    "  plt.title('Manhattan Distance Boxplot')\n",
    "  plt.ylabel('Manhattan Distance (km)')\n",
    "\n",
    "  plt.tight_layout()\n",
    "  plt.show()"
   ]
  },
  {
   "cell_type": "code",
   "execution_count": null,
   "metadata": {
    "colab": {
     "base_uri": "https://localhost:8080/",
     "height": 573
    },
    "id": "wcUHOeAqDN47",
    "outputId": "d63a9ab7-a74a-4034-e33b-b1ff49741a89"
   },
   "outputs": [],
   "source": [
    "uber_boxplot(uber)"
   ]
  },
  {
   "cell_type": "code",
   "execution_count": null,
   "metadata": {
    "colab": {
     "base_uri": "https://localhost:8080/"
    },
    "id": "4Y8ehp_NF4rl",
    "outputId": "904da84e-68b3-43dc-d18c-dc895c86d581"
   },
   "outputs": [],
   "source": [
    "# Detect outliers for fare_amount\n",
    "fare_lower, fare_upper, fare_outliers = get_outliers(\n",
    "    uber, 'fare_amount', 'fare_amount > 0'\n",
    ")\n",
    "\n",
    "# Detect outliers for manhattan_distance_km\n",
    "distance_lower, distance_upper, distance_outliers = get_outliers(\n",
    "    uber, 'manhattan_distance_km', 'manhattan_distance_km > 1'\n",
    ")\n",
    "\n",
    "# Detect outliers for passenger_count\n",
    "passenger_lower, passenger_upper, passenger_outliers = get_outliers(\n",
    "    uber, 'passenger_count', '(passenger_count > 0) & (passenger_count <= 6)'\n",
    ")\n",
    "\n",
    "\n",
    "print(f\"Fare Amount Bounds: ({fare_lower}, {fare_upper}), Outliers Detected: {fare_outliers.shape[0]}\")\n",
    "print(f\"Manhattan Distance Bounds: ({distance_lower}, {distance_upper}), Outliers Detected: {distance_outliers.shape[0]}\")\n",
    "print(f\"Passenger Count Bounds: ({passenger_lower}, {passenger_upper}), Outliers Detected: {passenger_outliers.shape[0]}\")"
   ]
  },
  {
   "cell_type": "code",
   "execution_count": null,
   "metadata": {
    "colab": {
     "base_uri": "https://localhost:8080/"
    },
    "id": "2zZZiztR_KDi",
    "outputId": "d767bece-71c2-4e20-ef41-a9ee4b9b7c43"
   },
   "outputs": [],
   "source": [
    "uber = uber[\n",
    "    ((uber['fare_amount'] > 0) & (uber['fare_amount'] < fare_upper)) &\n",
    "    ((uber['manhattan_distance_km'] < distance_upper) & (uber['manhattan_distance_km'] > 1)) &\n",
    "    ((uber['passenger_count'] > 0) & (uber['passenger_count'] < passenger_upper))\n",
    "]\n",
    "\n",
    "uber.shape"
   ]
  },
  {
   "cell_type": "code",
   "execution_count": null,
   "metadata": {
    "colab": {
     "base_uri": "https://localhost:8080/",
     "height": 424
    },
    "id": "V1-uKWFe_we8",
    "outputId": "a7651f99-e746-4721-a6b3-ab63b8dd38ed"
   },
   "outputs": [],
   "source": [
    "uber.describe()"
   ]
  },
  {
   "cell_type": "code",
   "execution_count": null,
   "metadata": {
    "colab": {
     "base_uri": "https://localhost:8080/",
     "height": 574
    },
    "id": "mKtfgoFgDRdS",
    "outputId": "db2a2cee-41f9-4d81-94a4-8d7ac1ea5e4a"
   },
   "outputs": [],
   "source": [
    "uber_boxplot(uber)"
   ]
  },
  {
   "cell_type": "markdown",
   "metadata": {
    "id": "3v2rhQeZFi9c"
   },
   "source": [
    "**Observation:**\n",
    "\n",
    "- Many outliers are removed and we now have a cleaned dataset"
   ]
  },
  {
   "cell_type": "markdown",
   "metadata": {
    "id": "YWGT3DIRVDx3"
   },
   "source": [
    "### 3. Check the correlation"
   ]
  },
  {
   "cell_type": "code",
   "execution_count": null,
   "metadata": {
    "colab": {
     "base_uri": "https://localhost:8080/",
     "height": 856
    },
    "id": "lGVBs0neVH5U",
    "outputId": "b02c0847-3008-47a0-caf3-3358c7671277"
   },
   "outputs": [],
   "source": [
    "# Calculate the correlation matrix for the filtered DataFrame\n",
    "correlation_matrix_filtered = uber.corr()\n",
    "\n",
    "# Visualize the correlation matrix using a heatmap\n",
    "plt.figure(figsize=(10, 8))\n",
    "sns.heatmap(correlation_matrix_filtered, annot=True, fmt=\".2f\", cmap=\"coolwarm\", square=True)\n",
    "plt.title('Correlation Matrix (Filtered Data)')\n",
    "plt.show()\n"
   ]
  },
  {
   "cell_type": "markdown",
   "metadata": {
    "id": "EC2zBytAVDwj"
   },
   "source": [
    "### 4. Implement linear regression and ridge, Lasso regression models"
   ]
  },
  {
   "cell_type": "code",
   "execution_count": null,
   "metadata": {
    "id": "jq62qelAVQvU"
   },
   "outputs": [],
   "source": [
    "X = uber[['manhattan_distance_km']]\n",
    "y = uber['fare_amount']\n",
    "\n",
    "# Split the data into training and testing sets (80-20 split)\n",
    "X_train, X_test, y_train, y_test = train_test_split(X, y, test_size=0.2, random_state=42)"
   ]
  },
  {
   "cell_type": "code",
   "execution_count": null,
   "metadata": {
    "colab": {
     "base_uri": "https://localhost:8080/"
    },
    "id": "lnWvkW-bYO0G",
    "outputId": "f199a2d6-faf1-4e75-ab35-8649504fb6e1"
   },
   "outputs": [],
   "source": [
    "# Create a Linear Regression model\n",
    "linear_model = LinearRegression()\n",
    "ridge_model = Ridge(alpha=1.0)\n",
    "lasso_model = Lasso(alpha=0.1)\n",
    "\n",
    "linear_model.fit(X_train, y_train)\n",
    "ridge_model.fit(X_train, y_train)\n",
    "lasso_model.fit(X_train, y_train)\n",
    "\n",
    "# Make predictions\n",
    "y_pred_linear = linear_model.predict(X_test)\n",
    "y_pred_ridge = ridge_model.predict(X_test)\n",
    "y_pred_lasso = lasso_model.predict(X_test)\n",
    "\n",
    "# Evaluate the model\n",
    "linear_rmse = mean_squared_error(y_test, y_pred_linear, squared=False)\n",
    "linear_r2 = r2_score(y_test, y_pred_linear)\n",
    "\n",
    "print(f\"Linear Regression RMSE: {linear_rmse:.2f}, R^2: {linear_r2:.2f}\")"
   ]
  },
  {
   "cell_type": "code",
   "execution_count": null,
   "metadata": {},
   "outputs": [],
   "source": [
    "def evaluate_model(y_true, y_pred):\n",
    "    r2 = r2_score(y_true, y_pred)\n",
    "    rmse = np.sqrt(mean_squared_error(y_true, y_pred))\n",
    "    return r2, rmse"
   ]
  },
  {
   "cell_type": "code",
   "execution_count": null,
   "metadata": {},
   "outputs": [],
   "source": [
    "r2_linear, rmse_linear = evaluate_model(y_test, y_pred_linear)\n",
    "r2_ridge, rmse_ridge = evaluate_model(y_test, y_pred_ridge)\n",
    "r2_lasso, rmse_lasso = evaluate_model(y_test, y_pred_lasso)\n",
    "\n",
    "\n",
    "print(f'Linear Regression: R² = {r2_linear:.2f}, RMSE = {rmse_linear:.2f}')\n",
    "print(f'Ridge Regression: R² = {r2_ridge:.2f}, RMSE = {rmse_ridge:.2f}')\n",
    "print(f'Lasso Regression: R² = {r2_lasso:.2f}, RMSE = {rmse_lasso:.2f}')"
   ]
  },
  {
   "cell_type": "code",
   "execution_count": null,
   "metadata": {
    "id": "qrP9cVNoNgsQ"
   },
   "outputs": [],
   "source": [
    "# diabetes data set from UCI and Pima Indians Diabetes dataset, Univariate Multivariate analysis\n",
    "import numpy as np\n",
    "import pandas as pd\n",
    "import matplotlib.pyplot as plt\n",
    "import seaborn as sns\n",
    "import statsmodels.api as sm\n",
    "\n",
    "from scipy import stats\n",
    "from sklearn.linear_model import LinearRegression, LogisticRegression\n",
    "from sklearn.model_selection import train_test_split\n",
    "from sklearn.metrics import mean_squared_error, accuracy_score, classification_report, r2_score, confusion_matrix"
   ]
  },
  {
   "cell_type": "code",
   "execution_count": null,
   "metadata": {
    "colab": {
     "base_uri": "https://localhost:8080/"
    },
    "id": "L4SArxRrQCuL",
    "outputId": "f933d69a-6f59-4057-a700-9cbe18654f0c"
   },
   "outputs": [],
   "source": [
    "pima_df = pd.read_csv('./datasets/diabetes.csv')\n",
    "pima_df.shape"
   ]
  },
  {
   "cell_type": "code",
   "execution_count": null,
   "metadata": {
    "colab": {
     "base_uri": "https://localhost:8080/"
    },
    "id": "SAXHnEGNOOrm",
    "outputId": "1e6c8e71-adbe-4e05-98d4-e68af537c7fe"
   },
   "outputs": [],
   "source": [
    "pima_df.info()"
   ]
  },
  {
   "cell_type": "code",
   "execution_count": null,
   "metadata": {
    "colab": {
     "base_uri": "https://localhost:8080/",
     "height": 206
    },
    "id": "ZqX78NMhOQCq",
    "outputId": "38c9727d-25dc-4fe9-d0af-1a0cf8e5fe9a"
   },
   "outputs": [],
   "source": [
    "pima_df.sample(5)"
   ]
  },
  {
   "cell_type": "code",
   "execution_count": null,
   "metadata": {
    "colab": {
     "base_uri": "https://localhost:8080/",
     "height": 300
    },
    "id": "2iHNPTd2OSpr",
    "outputId": "471ea549-b023-46bd-9f52-e89ae5f90e91"
   },
   "outputs": [],
   "source": [
    "pima_df.describe()"
   ]
  },
  {
   "cell_type": "markdown",
   "metadata": {
    "id": "hrw3n78UQ18f"
   },
   "source": [
    "#### a. Univariate Analysis"
   ]
  },
  {
   "cell_type": "code",
   "execution_count": null,
   "metadata": {
    "id": "TEyTPEofUD1b"
   },
   "outputs": [],
   "source": [
    "# List of columns for univariate analysis\n",
    "columns = pima_df.columns\n",
    "columns"
   ]
  },
  {
   "cell_type": "code",
   "execution_count": null,
   "metadata": {
    "id": "90kmlzbWOrXz"
   },
   "outputs": [],
   "source": [
    "# Function to compute univariate statistics\n",
    "def univariate_analysis(df, cols):\n",
    "    results = {}\n",
    "    for col in cols:\n",
    "        mean = df[col].mean()\n",
    "        median = df[col].median()\n",
    "        mode = df[col].mode()[0]  # Mode can have multiple values, so take the first one\n",
    "        variance = df[col].var()\n",
    "        std_dev = df[col].std()\n",
    "        skewness = df[col].skew()\n",
    "        kurtosis = df[col].kurtosis()\n",
    "\n",
    "        results[col] = {\n",
    "            'Mean': mean,\n",
    "            'Median': median,\n",
    "            'Mode': mode,\n",
    "            'Variance': variance,\n",
    "            'Standard Deviation': std_dev,\n",
    "            'Skewness': skewness,\n",
    "            'Kurtosis': kurtosis\n",
    "        }\n",
    "\n",
    "    return pd.DataFrame(results).T"
   ]
  },
  {
   "cell_type": "code",
   "execution_count": null,
   "metadata": {
    "colab": {
     "base_uri": "https://localhost:8080/",
     "height": 331
    },
    "id": "U_wJPCAKVGYi",
    "outputId": "1f081db0-c032-49c7-d285-f7649c7842b6"
   },
   "outputs": [],
   "source": [
    "univariate_results = univariate_analysis(pima_df, columns)\n",
    "univariate_results"
   ]
  },
  {
   "cell_type": "code",
   "execution_count": null,
   "metadata": {
    "colab": {
     "base_uri": "https://localhost:8080/",
     "height": 206
    },
    "id": "sPqyJ-x-Wzrn",
    "outputId": "012c9a29-8be7-426b-c890-80421f8cf711"
   },
   "outputs": [],
   "source": [
    "pima_df.sample(5)"
   ]
  },
  {
   "cell_type": "markdown",
   "metadata": {
    "id": "tF2wlAMJX_aU"
   },
   "source": [
    "#### b. Bivariate Analysis"
   ]
  },
  {
   "cell_type": "code",
   "execution_count": null,
   "metadata": {
    "colab": {
     "base_uri": "https://localhost:8080/"
    },
    "id": "6_xlxyhv51X7",
    "outputId": "692c862e-7846-4c4b-e2fb-2753c9ee694a"
   },
   "outputs": [],
   "source": [
    "# Bivariate Analysis - Linear Regression\n",
    "def linear_regression(df):\n",
    "    print(\"\\nBivariate Analysis - Linear Regression:\")\n",
    "    \n",
    "    # Define independent and dependent variables\n",
    "    X = df[['Glucose', 'BMI', 'Age']]  # Example predictors\n",
    "    y = df['Outcome']\n",
    "\n",
    "    # Add constant to predictor variables\n",
    "    X = sm.add_constant(X)\n",
    "\n",
    "    # Fit linear regression model\n",
    "    model = sm.OLS(y, X).fit()\n",
    "    \n",
    "    # Print model summary\n",
    "    print(model.summary())\n",
    "\n",
    "# Bivariate Analysis - Logistic Regression\n",
    "def logistic_regression(df):\n",
    "    print(\"\\nBivariate Analysis - Logistic Regression:\")\n",
    "    \n",
    "    # Define independent and dependent variables\n",
    "    X = df[['Glucose', 'BMI', 'Age']]\n",
    "    y = df['Outcome']\n",
    "\n",
    "    # Split the data into training and testing sets\n",
    "    X_train, X_test, y_train, y_test = train_test_split(X, y, test_size=0.2, random_state=42)\n",
    "\n",
    "    # Fit logistic regression model\n",
    "    log_model = LogisticRegression(max_iter=200)\n",
    "    log_model.fit(X_train, y_train)\n",
    "\n",
    "    # Predict probabilities on the test set\n",
    "    predictions = log_model.predict_proba(X_test)[:, 1]\n",
    "    \n",
    "    # Print coefficients and accuracy\n",
    "    print(\"Logistic Regression Coefficients:\\n\", log_model.coef_)"
   ]
  },
  {
   "cell_type": "code",
   "execution_count": null,
   "metadata": {},
   "outputs": [],
   "source": [
    "linear_regression(pima_df)"
   ]
  },
  {
   "cell_type": "code",
   "execution_count": null,
   "metadata": {},
   "outputs": [],
   "source": [
    "logistic_regression(pima_df)"
   ]
  },
  {
   "cell_type": "markdown",
   "metadata": {
    "id": "7pbaVk8aET1A"
   },
   "source": [
    "#### c. Multiple Regression"
   ]
  },
  {
   "cell_type": "code",
   "execution_count": null,
   "metadata": {
    "id": "eTiA_spHXe5q"
   },
   "outputs": [],
   "source": [
    "# Multiple Regression Analysis\n",
    "def multiple_regression(df):\n",
    "    print(\"\\nMultiple Regression Analysis:\")\n",
    "    \n",
    "    X = df.drop(columns=['Outcome'])\n",
    "    y = df['Outcome']\n",
    "    \n",
    "    # Add constant to predictor variables\n",
    "    X = sm.add_constant(X)\n",
    "\n",
    "    # Fit multiple regression model\n",
    "    multi_model = sm.OLS(y, X).fit()\n",
    "    \n",
    "    # Print model summary\n",
    "    print(multi_model.summary())\n",
    "\n",
    "multiple_regression(pima_df)"
   ]
  }
 ],
 "metadata": {
  "colab": {
   "provenance": []
  },
  "kernelspec": {
   "display_name": "Python 3 (ipykernel)",
   "language": "python",
   "name": "python3"
  },
  "language_info": {
   "codemirror_mode": {
    "name": "ipython",
    "version": 3
   },
   "file_extension": ".py",
   "mimetype": "text/x-python",
   "name": "python",
   "nbconvert_exporter": "python",
   "pygments_lexer": "ipython3",
   "version": "3.12.1"
  }
 },
 "nbformat": 4,
 "nbformat_minor": 4
}
