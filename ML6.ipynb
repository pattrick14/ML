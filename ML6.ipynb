{
 "cells": [
  {
   "cell_type": "markdown",
   "metadata": {
    "id": "WH4blEUhI-ql"
   },
   "source": [
    "# **Reinforcement Learning**\n"
   ]
  },
  {
   "cell_type": "markdown",
   "metadata": {
    "id": "OjRvawSLxhtW"
   },
   "source": [
    "### A. Implement Reinforcement Learning using an example of a maze environment that the agent needs to explore."
   ]
  },
  {
   "cell_type": "markdown",
   "metadata": {
    "id": "JpFONNJEtVNC"
   },
   "source": [
    "## Introduction to Reinforcement Learning\n",
    "\n",
    "### What is Reinforcement Learning?**\n",
    "\n",
    "Reinforcement Learning is a branch of machine learning where an agent learns to make decisions by interacting with its environment. The agent performs actions, observes rewards, and learns to optimize its actions over time.\n",
    "\n",
    "The primary components of RL are:\n",
    "- **Agent**: The learner or decision maker.\n",
    "- **Environment**: The world in which the agent operates.\n",
    "- **Actions**: The set of choices available to the agent.\n",
    "- **Rewards**: Feedback from the environment to evaluate an action.\n",
    "- **States**: A representation of the agent’s current situation.\n",
    "\n",
    "### **Goal**\n",
    "The goal of the agent is to maximize the cumulative reward by learning the best policy (a mapping from states to actions) through trial and error."
   ]
  },
  {
   "cell_type": "code",
   "execution_count": 1,
   "metadata": {
    "colab": {
     "base_uri": "https://localhost:8080/",
     "height": 452
    },
    "id": "XGvKizALtcfB",
    "outputId": "8c26ac03-d64a-4c99-d108-0eb505a8c879"
   },
   "outputs": [
    {
     "data": {
      "image/png": "[encoded data removed]",
      "text/plain": [
       "<Figure size 640x480 with 1 Axes>"
      ]
     },
     "metadata": {},
     "output_type": "display_data"
    }
   ],
   "source": [
    "# Importing necessary libraries\n",
    "import numpy as np\n",
    "import matplotlib.pyplot as plt\n",
    "import random\n",
    "\n",
    "# Define the environment grid (0: Free space, 1: Wall, 2: Start, 3: Goal)\n",
    "maze = np.array([\n",
    "    [1, 1, 1, 1, 1, 1],\n",
    "    [1, 2, 0, 0, 0, 1],\n",
    "    [1, 0, 1, 0, 1, 1],\n",
    "    [1, 0, 1, 0, 0, 1],\n",
    "    [1, 0, 0, 0, 3, 1],\n",
    "    [1, 1, 1, 1, 1, 1]\n",
    "])\n",
    "\n",
    "# Visualization function to plot the maze\n",
    "def plot_maze(maze):\n",
    "    plt.imshow(maze, cmap='coolwarm')\n",
    "    plt.title(\"Maze Environment\")\n",
    "    plt.show()\n",
    "\n",
    "plot_maze(maze)"
   ]
  },
  {
   "cell_type": "markdown",
   "metadata": {
    "id": "6LxQC5IfJbNx"
   },
   "source": [
    "### **Explanation**:\n",
    "- **0**: Represents free space where the agent can move.\n",
    "- **1**: Represents walls or blocks the agent cannot pass through.\n",
    "- **2**: Represents the agent's starting position.\n",
    "- **3**: Represents the goal.\n",
    "\n",
    "---\n",
    "\n",
    "\n"
   ]
  },
  {
   "cell_type": "markdown",
   "metadata": {
    "id": "90aPwx5wJcm5"
   },
   "source": [
    "### **4. Q-Learning Algorithm Overview**\n",
    "\n",
    "### **What is Q-Learning?**\n",
    "Q-Learning is a value-based Reinforcement Learning algorithm. The agent learns a **Q-Value** (expected future rewards) for each action in each state. The agent updates these values based on its interactions with the environment and chooses actions with the highest Q-Value.\n",
    "\n",
    "\n",
    "### **Steps**:\n",
    "1. Initialize the Q-table with zeros.\n",
    "2. For each episode:\n",
    "   - Start at the initial state.\n",
    "   - Choose an action using an exploration-exploitation strategy (like epsilon-greedy).\n",
    "   - Perform the action, observe the reward and new state.\n",
    "   - Update the Q-value.\n",
    "   - Repeat until the goal is reached.\n",
    "\n",
    "---"
   ]
  },
  {
   "cell_type": "markdown",
   "metadata": {
    "id": "gsbWjAo9JdDZ"
   },
   "source": [
    "### **5. Step-by-Step Implementation**\n",
    "\n",
    "### **Step 1: Initialize the Q-Table**\n",
    "\n",
    "---"
   ]
  },
  {
   "cell_type": "code",
   "execution_count": 2,
   "metadata": {
    "id": "EoZ1kpEVtTH1"
   },
   "outputs": [],
   "source": [
    "# Maze dimensions\n",
    "rows, cols = maze.shape\n",
    "\n",
    "# Initialize Q-table with zeros\n",
    "Q_table = np.zeros((rows, cols, 4))  # 4 possible actions: Up, Down, Left, Right\n",
    "\n",
    "# Define hyperparameters\n",
    "learning_rate = 0.1\n",
    "discount_factor = 0.9\n",
    "epsilon = 1.0  # Exploration rate\n",
    "max_epsilon = 1.0\n",
    "min_epsilon = 0.01\n",
    "decay_rate = 0.005"
   ]
  },
  {
   "cell_type": "markdown",
   "metadata": {
    "id": "-4TYs8MIJdsI"
   },
   "source": [
    "\n",
    "### **Step 2: Define the Agent's Actions and Rewards**\n",
    "\n",
    "---"
   ]
  },
  {
   "cell_type": "code",
   "execution_count": 3,
   "metadata": {
    "id": "cYZeEAiwtocY"
   },
   "outputs": [],
   "source": [
    "# Define actions: [Up, Down, Left, Right]\n",
    "actions = ['up', 'down', 'left', 'right']\n",
    "\n",
    "# Reward system\n",
    "def get_reward(state):\n",
    "    if maze[state] == 3:  # Goal state\n",
    "        return 100\n",
    "    elif maze[state] == 1:  # Wall state\n",
    "        return -100\n",
    "    else:\n",
    "        return -1  # Default penalty for each move"
   ]
  },
  {
   "cell_type": "markdown",
   "metadata": {
    "id": "ByeHW79OJeUG"
   },
   "source": [
    "### **Step 3: Agent’s Movement in the Maze**\n",
    "\n",
    "---\n"
   ]
  },
  {
   "cell_type": "code",
   "execution_count": 4,
   "metadata": {
    "id": "EpxcTyoHttWR"
   },
   "outputs": [],
   "source": [
    "# Agent movement logic\n",
    "def take_action(state, action):\n",
    "    row, col = state\n",
    "\n",
    "    if action == 'up' and row > 0:\n",
    "        row -= 1\n",
    "    elif action == 'down' and row < rows - 1:\n",
    "        row += 1\n",
    "    elif action == 'left' and col > 0:\n",
    "        col -= 1\n",
    "    elif action == 'right' and col < cols - 1:\n",
    "        col += 1\n",
    "\n",
    "    new_state = (row, col)\n",
    "\n",
    "    if maze[new_state] == 1:  # If it's a wall, agent doesn't move\n",
    "        return state\n",
    "    return new_state"
   ]
  },
  {
   "cell_type": "markdown",
   "metadata": {
    "id": "eo3ZNhfIJe8F"
   },
   "source": [
    "\n",
    "### **6. Training the Agent**\n",
    "\n",
    "### **Step 4: Q-Learning Algorithm**\n",
    "\n",
    "---\n"
   ]
  },
  {
   "cell_type": "code",
   "execution_count": 5,
   "metadata": {
    "id": "yVrV8nNftwss"
   },
   "outputs": [],
   "source": [
    "# Training the agent through episodes\n",
    "num_episodes = 1000\n",
    "max_steps = 100  # Max steps per episode\n",
    "\n",
    "for episode in range(num_episodes):\n",
    "    # Initialize starting state (find position of the '2' which is the start)\n",
    "    state = tuple(np.argwhere(maze == 2)[0])\n",
    "    total_rewards = 0\n",
    "\n",
    "    for step in range(max_steps):\n",
    "        # Choose action using epsilon-greedy policy\n",
    "        if random.uniform(0, 1) < epsilon:\n",
    "            action_index = random.randint(0, 3)  # Explore: random action\n",
    "        else:\n",
    "            action_index = np.argmax(Q_table[state])  # Exploit: best action\n",
    "\n",
    "        action = actions[action_index]\n",
    "        new_state = take_action(state, action)\n",
    "        reward = get_reward(new_state)\n",
    "\n",
    "        # Update Q-table using the Q-learning formula\n",
    "        best_future_q = np.max(Q_table[new_state])\n",
    "        Q_table[state][action_index] += learning_rate * (reward + discount_factor * best_future_q - Q_table[state][action_index])\n",
    "\n",
    "        state = new_state\n",
    "        total_rewards += reward\n",
    "\n",
    "        # If goal is reached, end the episode\n",
    "        if maze[state] == 3:\n",
    "            break\n",
    "\n",
    "    # Decay epsilon for less exploration over time\n",
    "    epsilon = min_epsilon + (max_epsilon - min_epsilon) * np.exp(-decay_rate * episode)"
   ]
  },
  {
   "cell_type": "markdown",
   "metadata": {
    "id": "K-yH96NtJfqc"
   },
   "source": [
    "### **Step 5: Test the Agent**\n",
    "\n",
    "---"
   ]
  },
  {
   "cell_type": "code",
   "execution_count": 6,
   "metadata": {
    "colab": {
     "base_uri": "https://localhost:8080/",
     "height": 1000
    },
    "id": "rqIPeaM3tz8b",
    "outputId": "de85ed42-2636-4a5c-ad5b-2b57a7889fa7"
   },
   "outputs": [
    {
     "data": {
      "image/png": "[encoded data removed]",
      "text/plain": [
       "<Figure size 640x480 with 1 Axes>"
      ]
     },
     "metadata": {},
     "output_type": "display_data"
    },
    {
     "data": {
      "image/png": "[encoded data removed]",
      "text/plain": [
       "<Figure size 640x480 with 1 Axes>"
      ]
     },
     "metadata": {},
     "output_type": "display_data"
    },
    {
     "data": {
      "image/png": "[encoded data removed]",
      "text/plain": [
       "<Figure size 640x480 with 1 Axes>"
      ]
     },
     "metadata": {},
     "output_type": "display_data"
    },
    {
     "data": {
      "image/png": "[encoded data removed]",
      "text/plain": [
       "<Figure size 640x480 with 1 Axes>"
      ]
     },
     "metadata": {},
     "output_type": "display_data"
    },
    {
     "data": {
      "image/png": "[encoded data removed]",
      "text/plain": [
       "<Figure size 640x480 with 1 Axes>"
      ]
     },
     "metadata": {},
     "output_type": "display_data"
    },
    {
     "data": {
      "image/png": "[encoded data removed]",
      "text/plain": [
       "<Figure size 640x480 with 1 Axes>"
      ]
     },
     "metadata": {},
     "output_type": "display_data"
    }
   ],
   "source": [
    "# Test the agent's policy after training\n",
    "def test_agent():\n",
    "    state = tuple(np.argwhere(maze == 2)[0])  # Start at the initial position\n",
    "    steps = 0\n",
    "\n",
    "    while maze[state] != 3 and steps < max_steps:\n",
    "        action_index = np.argmax(Q_table[state])\n",
    "        action = actions[action_index]\n",
    "        state = take_action(state, action)\n",
    "        steps += 1\n",
    "\n",
    "        # Visualize the agent's movement in the maze\n",
    "        maze_copy = maze.copy()\n",
    "        maze_copy[state] = 4  # Mark the agent's position\n",
    "        plot_maze(maze_copy)\n",
    "\n",
    "test_agent()"
   ]
  }
 ],
 "metadata": {
  "colab": {
   "provenance": []
  },
  "kernelspec": {
   "display_name": "Python 3 (ipykernel)",
   "language": "python",
   "name": "python3"
  },
  "language_info": {
   "codemirror_mode": {
    "name": "ipython",
    "version": 3
   },
   "file_extension": ".py",
   "mimetype": "text/x-python",
   "name": "python",
   "nbconvert_exporter": "python",
   "pygments_lexer": "ipython3",
   "version": "3.12.1"
  }
 },
 "nbformat": 4,
 "nbformat_minor": 4
}
